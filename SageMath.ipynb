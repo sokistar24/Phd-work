{
 "cells": [
  {
   "cell_type": "code",
   "execution_count": 1,
   "id": "d254e4c8",
   "metadata": {},
   "outputs": [],
   "source": [
    "import handcalcs.render"
   ]
  },
  {
   "cell_type": "code",
   "execution_count": 2,
   "id": "ca66f24a",
   "metadata": {},
   "outputs": [],
   "source": [
    "from math import sqrt"
   ]
  },
  {
   "cell_type": "code",
   "execution_count": 12,
   "id": "c11c1249",
   "metadata": {},
   "outputs": [
    {
     "data": {
      "text/latex": [
       "\\[\n",
       "\\begin{aligned}\n",
       "a &= 0.1 \\; \n",
       "\\\\[10pt]\n",
       "b &= 0.8 \\; \n",
       "\\\\[10pt]\n",
       "c &= 2 \\; \n",
       "\\end{aligned}\n",
       "\\]"
      ],
      "text/plain": [
       "<IPython.core.display.Latex object>"
      ]
     },
     "metadata": {},
     "output_type": "display_data"
    }
   ],
   "source": [
    "%%render \n",
    "a= 0.1\n",
    "b= 0.8\n",
    "c= 2"
   ]
  },
  {
   "cell_type": "code",
   "execution_count": 13,
   "id": "55f5b62d",
   "metadata": {},
   "outputs": [
    {
     "data": {
      "text/latex": [
       "\\[\n",
       "\\begin{aligned}\n",
       "q &= \\frac{ \\left( b \\right) ^{ 2 } - a \\cdot c }{ a \\cdot b - \\left( 2 \\cdot a - b \\right) \\cdot c }  = \\frac{ \\left( 0.8 \\right) ^{ 2 } - 0.1 \\cdot 2 }{ 0.1 \\cdot 0.8 - \\left( 2 \\cdot 0.1 - 0.8 \\right) \\cdot 2 } &= 3.438 \\times 10 ^ {-1 }  \n",
       "\\end{aligned}\n",
       "\\]"
      ],
      "text/plain": [
       "<IPython.core.display.Latex object>"
      ]
     },
     "metadata": {},
     "output_type": "display_data"
    }
   ],
   "source": [
    "%%render\n",
    "q= (b**2-a*c)/(a*b-(2*a-b)*c)"
   ]
  },
  {
   "cell_type": "code",
   "execution_count": null,
   "id": "266a5249",
   "metadata": {},
   "outputs": [],
   "source": []
  }
 ],
 "metadata": {
  "kernelspec": {
   "display_name": "Python 3",
   "language": "python",
   "name": "python3"
  },
  "language_info": {
   "codemirror_mode": {
    "name": "ipython",
    "version": 3
   },
   "file_extension": ".py",
   "mimetype": "text/x-python",
   "name": "python",
   "nbconvert_exporter": "python",
   "pygments_lexer": "ipython3",
   "version": "3.7.7"
  }
 },
 "nbformat": 4,
 "nbformat_minor": 5
}
